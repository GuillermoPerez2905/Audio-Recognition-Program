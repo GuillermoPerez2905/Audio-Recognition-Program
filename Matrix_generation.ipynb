{
  "nbformat": 4,
  "nbformat_minor": 0,
  "metadata": {
    "colab": {
      "name": "Matrix_generation",
      "provenance": [],
      "collapsed_sections": [],
      "mount_file_id": "1rxTO7BRjT_S1umLMqrsTaQlhO357PvL1",
      "authorship_tag": "ABX9TyONZk/rduO1Qxpvr/5W0o5w",
      "include_colab_link": true
    },
    "kernelspec": {
      "name": "python3",
      "display_name": "Python 3"
    }
  },
  "cells": [
    {
      "cell_type": "markdown",
      "metadata": {
        "id": "view-in-github",
        "colab_type": "text"
      },
      "source": [
        "<a href=\"https://colab.research.google.com/github/GuillermoPerez2905/Audio-Recognition-Program/blob/main/Matrix_generation.ipynb\" target=\"_parent\"><img src=\"https://colab.research.google.com/assets/colab-badge.svg\" alt=\"Open In Colab\"/></a>"
      ]
    },
    {
      "cell_type": "markdown",
      "metadata": {
        "id": "oJuVfPplEwJA"
      },
      "source": [
        "**IMPORTACIÓN INSTALACIÓN DE PAQUETES NECESARIOS**"
      ]
    },
    {
      "cell_type": "code",
      "metadata": {
        "id": "CkOD9gmrjMp6"
      },
      "source": [
        "!pip install python_speech_features\n",
        "!pip install -U -q PyDrive"
      ],
      "execution_count": null,
      "outputs": []
    },
    {
      "cell_type": "code",
      "metadata": {
        "id": "5UpCtXKotC88"
      },
      "source": [
        "from python_speech_features import mfcc\n",
        "from python_speech_features import logfbank\n",
        "from python_speech_features import delta\n",
        "import scipy.io.wavfile as wav\n",
        "import pandas as pd\n",
        "import numpy as np\n",
        "import matplotlib.pyplot as pltn\n",
        "import seaborn as sns\n",
        "import pandas.util.testing as tm\n",
        "import glob\n",
        "import statistics as stats\n",
        "%matplotlib inline\n",
        "from pydrive.auth import GoogleAuth\n",
        "from pydrive.drive import GoogleDrive\n",
        "from google.colab import auth\n",
        "from oauth2client.client import GoogleCredentials"
      ],
      "execution_count": null,
      "outputs": []
    },
    {
      "cell_type": "markdown",
      "metadata": {
        "id": "BX7x2B_8D-Nn"
      },
      "source": [
        "**CÓDIGO PARA GENERAR LA MATRIZ DE COEFICIENTES**"
      ]
    },
    {
      "cell_type": "markdown",
      "metadata": {
        "id": "rKmdXJBsEFFP"
      },
      "source": [
        "*MFCC'S DE TODOS LOS AUDIOS*"
      ]
    },
    {
      "cell_type": "code",
      "metadata": {
        "id": "oZe7QjKZARBO"
      },
      "source": [
        "MFCC_values = pd.DataFrame()\n",
        "speaker_list = ['01', '02', '03', '04', '05', '06', '07', '08', '09', '10',\n",
        "                '11', '12', '13','14', '15', '16', '17', '18', '19', '20',\n",
        "                '21', '22', '23', '24', '25']\n",
        "\n",
        "audio_number = ['00','01', '02', '03', '04', '05', '06', '07', '08', '09', '10']\n",
        "for speaker in speaker_list: #Bucle para acceder a todos los audios del Dataset\n",
        "  for method in ['M', 'm', 'T', 't']:\n",
        "    for ind in np.arange(0,11): \n",
        "        for letter in ['A', 'B', 'C', 'D', 'E', 'F']:\n",
        "          for audio in audio_number:  \n",
        "            try:\n",
        "              wavfile = '0' + speaker + method + str(ind)+ letter + audio\n",
        "              #Sacamos la frecuencia de muestreo del audio y los datos referentes a la señal\n",
        "              (rate,sig) = wav.read(\"/content/drive/My Drive/Audios Ahumada/\" + wavfile +\".wav\")\n",
        "              #Sacamos los MFCC de esa señal y frecuencia y los añadimos al Dataframe\n",
        "              #cada audio que vaya introduciéndose al bucle \n",
        "              MFCC_values = MFCC_values.append(pd.DataFrame(mfcc(sig,rate)))\n",
        "            except FileNotFoundError:\n",
        "              continue\n",
        "              \n",
        "MFCC_values\n",
        "\n"
      ],
      "execution_count": null,
      "outputs": []
    },
    {
      "cell_type": "code",
      "metadata": {
        "id": "1K2XRpQ0Sa-4"
      },
      "source": [
        "MFCC_values = pd.DataFrame()\n",
        "#Uso de la función glob para obtener los audios sin necesidad de usar bucles\n",
        "lista_audios = sorted(glob.glob(\"/content/drive/My Drive/Audios Ahumada/*wav\")) \n",
        "for audio in lista_audios:\n",
        "  (rate,sig) = wav.read(audio)\n",
        "  name = audio.split('/')[5].split('.')[0]\n",
        "  if 'm' in name.lower():\n",
        "    name = name.lower().split('m')[0]\n",
        "  elif 't' in name.lower():\n",
        "    name= name.lower().split('t')[0]\n",
        "  mfcc_audio = mfcc(sig,rate)\n",
        "  MFCC_value = pd.DataFrame(mfcc_audio, index=int(name)*np.ones(mfcc_audio.shape[0]))\n",
        "  MFCC_values = MFCC_values.append(MFCC_value)\n",
        "MFCC_values"
      ],
      "execution_count": null,
      "outputs": []
    },
    {
      "cell_type": "markdown",
      "metadata": {
        "id": "A0u4ZIsxEQRt"
      },
      "source": [
        "*VALORES MEDIOS DE LOS MFCC*"
      ]
    },
    {
      "cell_type": "code",
      "metadata": {
        "id": "UrOCHHW_7Afo"
      },
      "source": [
        "MFCC_mean_values = pd.DataFrame()\n",
        "lista_audios = sorted(glob.glob(\"/content/drive/My Drive/Audios Ahumada/*wav\"))\n",
        "for audio in lista_audios:\n",
        "  (rate,sig) = wav.read(audio)\n",
        "  print('Voy por ' + audio.split('/')[5])\n",
        "  MFCC_single_mean = pd.DataFrame(np.apply_along_axis(\n",
        "      stats.mean, 0, mfcc(sig,rate)), columns= [audio.split('/')[5]],\n",
        "       index= pd.RangeIndex(1,14,1)).transpose()\n",
        "  MFCC_mean_values = MFCC_mean_values.append(MFCC_single_mean)\n",
        "MFCC_mean_values"
      ],
      "execution_count": null,
      "outputs": []
    },
    {
      "cell_type": "markdown",
      "metadata": {
        "id": "JOCunB7sEeo8"
      },
      "source": [
        "*VALORES MEDIOS MÁS LAS DERIVADAS DE LOS MFCC*"
      ]
    },
    {
      "cell_type": "code",
      "metadata": {
        "id": "VihLx02r04iO"
      },
      "source": [
        "MFCC_m_d_values = pd.DataFrame()\n",
        "MFCC_derivated_values = pd.DataFrame()\n",
        "lista_audios = sorted(glob.glob(\"/content/drive/My Drive/Audios Ahumada/*wav\"))\n",
        "for audio in lista_audios:\n",
        "  (rate,sig) = wav.read(audio)\n",
        "  print('Voy por ' + audio.split('/')[5])\n",
        "  MFCC_single_mean = pd.DataFrame(np.apply_along_axis(\n",
        "      stats.mean, 0, mfcc(sig,rate, winstep= 0.025)), index= pd.RangeIndex(1,14,1) ,columns= [audio.split('/')[5]]).transpose()\n",
        "  MFCC_derivate = pd.DataFrame(np.apply_along_axis(\n",
        "      stats.mean , 0, delta(mfcc(sig,rate, winstep= 0.025),165j)),index= pd.RangeIndex(1,14,1), columns= [audio.split('/')[5]]).transpose()\n",
        "  MFCC_m_d_values = MFCC_m_d_values.append(MFCC_single_mean)\n",
        "  MFCC_derivated_values = MFCC_derivated_values.append(MFCC_derivate)\n",
        "MFCC_m_d_values = MFCC_m_d_values.join(MFCC_derivated_values,\n",
        "                                         how= 'right',lsuffix='_mean', rsuffix= '_deriv')\n",
        "MFCC_m_d_values"
      ],
      "execution_count": null,
      "outputs": []
    },
    {
      "cell_type": "markdown",
      "metadata": {
        "id": "xSclxBZQEmNZ"
      },
      "source": [
        "*VALORES MEDIOS MÁS LA VARIANZA DE LOS MFCC*"
      ]
    },
    {
      "cell_type": "code",
      "metadata": {
        "id": "d_bdt8R91-_0"
      },
      "source": [
        "MFCC_m_s_values = pd.DataFrame()\n",
        "MFCC_variance_values = pd.DataFrame()\n",
        "lista_audios = sorted(glob.glob(\"/content/drive/My Drive/Audios Ahumada/*wav\"))\n",
        "for audio in lista_audios:\n",
        "  (rate,sig) = wav.read(audio)\n",
        "  print('Voy por ' + audio.split('/')[5])\n",
        "  MFCC_single_mean = pd.DataFrame(np.apply_along_axis(\n",
        "      stats.mean, 0, mfcc(sig,rate, winstep= 0.025)), index= pd.RangeIndex(1,14,1) ,columns= [audio.split('/')[5]]).transpose()\n",
        "  MFCC_variance = pd.DataFrame(np.apply_along_axis(\n",
        "      stats.variance, 0, mfcc(sig,rate, winstep= 0.025)),index= pd.RangeIndex(1,14,1), columns= [audio.split('/')[5]]).transpose()\n",
        "  MFCC_m_s_values = MFCC_m_s_values.append(MFCC_single_mean)\n",
        "  MFCC_variance_values = MFCC_variance_values.append(MFCC_variance)\n",
        "  #if audio.split('/')[5] == '001M2C01.wav':\n",
        "    #break\n",
        "MFCC_m_s_values = MFCC_m_s_values.join(MFCC_variance_values,\n",
        "                                         how= 'right',lsuffix='_mean', rsuffix= '_var')\n",
        "MFCC_m_s_values"
      ],
      "execution_count": null,
      "outputs": []
    },
    {
      "cell_type": "markdown",
      "metadata": {
        "id": "hW9QmHpGDhjE"
      },
      "source": [
        "**GUARDAR AUDIOS EN GOOGLE DRIVE**"
      ]
    },
    {
      "cell_type": "code",
      "metadata": {
        "id": "oNMLlgVrbrn9"
      },
      "source": [
        "MFCC_values.to_csv('000_MFCC_values.csv')\n",
        "!cp 000_MFCC_values.csv \"/content/drive/My Drive/Audios Ahumada\""
      ],
      "execution_count": null,
      "outputs": []
    },
    {
      "cell_type": "code",
      "metadata": {
        "id": "AGjwZ5W41s9S"
      },
      "source": [
        "MFCC_mean_values.to_csv('000_MFCC_mean_values.csv')\n",
        "!cp 000_MFCC_mean_values.csv \"/content/drive/My Drive/Audios Ahumada\""
      ],
      "execution_count": null,
      "outputs": []
    },
    {
      "cell_type": "code",
      "metadata": {
        "id": "uZglzWiAWWok"
      },
      "source": [
        "MFCC_m_d_values.to_csv('000_MFCC_m_d_values.csv')\n",
        "!cp 000_MFCC_m_d_values.csv \"/content/drive/My Drive/Audios Ahumada\""
      ],
      "execution_count": null,
      "outputs": []
    },
    {
      "cell_type": "code",
      "metadata": {
        "id": "vp7rgvW5-Wfj"
      },
      "source": [
        "MFCC_m_s_values.to_csv('000_MFCC_m_s_values.csv')\n",
        "!cp 000_MFCC_m_s_values.csv \"/content/drive/My Drive/Audios Ahumada\""
      ],
      "execution_count": null,
      "outputs": []
    }
  ]
}