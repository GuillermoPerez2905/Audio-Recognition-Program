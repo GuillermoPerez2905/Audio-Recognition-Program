{
  "nbformat": 4,
  "nbformat_minor": 0,
  "metadata": {
    "colab": {
      "name": "Entrenamiento_modelos",
      "provenance": [],
      "collapsed_sections": [],
      "mount_file_id": "18-Ro9X4ZW80KZS-nIgXrjfrwso2o_dEj",
      "authorship_tag": "ABX9TyOimQZhTKocKlOiFq+DkEZj",
      "include_colab_link": true
    },
    "kernelspec": {
      "name": "python3",
      "display_name": "Python 3"
    }
  },
  "cells": [
    {
      "cell_type": "markdown",
      "metadata": {
        "id": "view-in-github",
        "colab_type": "text"
      },
      "source": [
        "<a href=\"https://colab.research.google.com/github/GuillermoPerez2905/Audio-Recognition-Program/blob/main/Entrenamiento_modelos.ipynb\" target=\"_parent\"><img src=\"https://colab.research.google.com/assets/colab-badge.svg\" alt=\"Open In Colab\"/></a>"
      ]
    },
    {
      "cell_type": "code",
      "metadata": {
        "id": "FpK7Vvqn8Rbh"
      },
      "source": [
        "#INSTALACIÓN DE PAQUETES EN LA MÁQUINA VIRTUAL"
      ],
      "execution_count": null,
      "outputs": []
    },
    {
      "cell_type": "code",
      "metadata": {
        "id": "CkOD9gmrjMp6"
      },
      "source": [
        "!pip install python_speech_features\n",
        "!pip install -U -q PyDrive"
      ],
      "execution_count": null,
      "outputs": []
    },
    {
      "cell_type": "code",
      "metadata": {
        "id": "5UpCtXKotC88"
      },
      "source": [
        "import pandas as pd\n",
        "import numpy as np\n",
        "import matplotlib.pyplot as plt\n",
        "import seaborn as sns\n",
        "import pandas.util.testing as tm\n",
        "import torch\n",
        "from pydrive.auth import GoogleAuth\n",
        "from pydrive.drive import GoogleDrive\n",
        "from google.colab import auth\n",
        "from oauth2client.client import GoogleCredentials\n",
        "from sklearn.model_selection import train_test_split\n",
        "from sklearn.svm import SVC\n",
        "from sklearn.metrics import classification_report,confusion_matrix\n",
        "from sklearn.model_selection import GridSearchCV\n",
        "%matplotlib inline"
      ],
      "execution_count": null,
      "outputs": []
    },
    {
      "cell_type": "code",
      "metadata": {
        "id": "TDyzWYEa8Y1B"
      },
      "source": [
        "#CARGAMOS LOS DATAFRAMES DEL GOOGLE DRIVE"
      ],
      "execution_count": null,
      "outputs": []
    },
    {
      "cell_type": "code",
      "metadata": {
        "id": "mFFMVG8CHsgi"
      },
      "source": [
        "MFCC_mean_values = pd.read_csv('/content/drive/My Drive/Audios Ahumada/000_MFCC_mean_values.csv', index_col= 0)\n",
        "MFCC_m_d_values = pd.read_csv('/content/drive/My Drive/Audios Ahumada/000_MFCC_m_d_values.csv', index_col= 0)\n",
        "MFCC_m_s_values = pd.read_csv('/content/drive/My Drive/Audios Ahumada/000_MFCC_m_s_values.csv', index_col= 0)"
      ],
      "execution_count": null,
      "outputs": []
    },
    {
      "cell_type": "code",
      "metadata": {
        "id": "UUvv6Rpc8fM6"
      },
      "source": [
        "#GENERAMOS LA LISTA DE NOMBRES DE CADA AUDIO QUE LUEGO ASIGNAREMOS A LA VARIABLE y"
      ],
      "execution_count": null,
      "outputs": []
    },
    {
      "cell_type": "code",
      "metadata": {
        "id": "wHdZBazyMesY"
      },
      "source": [
        "audio_names = []\n",
        "for i in MFCC_mean_values.index:\n",
        "  if 'm' in i.lower():\n",
        "    audio_names.append(i.lower().split('m')[0])\n",
        "  elif 't' in i.lower():\n",
        "    audio_names.append(i.lower().split('t')[0])\n",
        "for num in np.arange(0,len(audio_names)):\n",
        "  if int(audio_names[num]) < 11:\n",
        "    continue\n",
        "  else:\n",
        "    audio_names[num] = 'Mundo'"
      ],
      "execution_count": null,
      "outputs": []
    },
    {
      "cell_type": "code",
      "metadata": {
        "id": "2F7qiDYc8ojG"
      },
      "source": [
        "#SEPARACIÓN DE VARIABLES EN ENTRENO Y TESTEO"
      ],
      "execution_count": null,
      "outputs": []
    },
    {
      "cell_type": "code",
      "metadata": {
        "id": "MJb0o-KP295f"
      },
      "source": [
        "Xm_train, Xm_test, ym_train, ym_test = train_test_split(MFCC_mean_values,audio_names,\n",
        "                                                    test_size=0.30, random_state=101)\n",
        "Xmd_train, Xmd_test, ymd_train, ymd_test = train_test_split(MFCC_m_d_values,audio_names,\n",
        "                                                    test_size=0.30, random_state=101)\n",
        "Xms_train, Xms_test, yms_train, yms_test = train_test_split(MFCC_m_s_values,audio_names,\n",
        "                                                    test_size=0.30, random_state=101)\n"
      ],
      "execution_count": null,
      "outputs": []
    },
    {
      "cell_type": "code",
      "metadata": {
        "id": "o4NPbs5e8vkd"
      },
      "source": [
        "#OPTIMIZACIÓN DEL CLASFICADOR"
      ],
      "execution_count": null,
      "outputs": []
    },
    {
      "cell_type": "code",
      "metadata": {
        "id": "bDO8yiitE7KU"
      },
      "source": [
        "possibilities = {'C': [3,4,7,10,12], 'gamma': [0.1,0.01,0.001,0.0001,0.00001],\n",
        "                 'kernel': ['rbf']}\n",
        "model_m_GS= GridSearchCV(SVC(),possibilities,refit=True,verbose=3)\n",
        "model_md_GS = GridSearchCV(SVC(),possibilities,refit=True,verbose=3)\n",
        "model_ms_GS = GridSearchCV(SVC(),possibilities,refit=True,verbose=3)\n",
        "model_m_GS.fit(Xm_train,ym_train)\n",
        "model_md_GS.fit(Xmd_train, ymd_train)\n",
        "model_ms_GS.fit(Xms_train,yms_train)\n",
        "print(model_m_GS.best_params_)\n",
        "print(model_md_GS.best_params_)\n",
        "print(model_ms_GS.best_params_)"
      ],
      "execution_count": null,
      "outputs": []
    },
    {
      "cell_type": "code",
      "metadata": {
        "id": "McPav0kP87Kj"
      },
      "source": [
        "#ESTABLECEMOS LAS VARIABLES ÓPTIMAS A CADA MODELO Y ENTRENAMOS EL MODELO CON\n",
        "#MUESTRAS DE ENTRENAMIENTO"
      ],
      "execution_count": null,
      "outputs": []
    },
    {
      "cell_type": "code",
      "metadata": {
        "id": "F7OMfMxBapRY"
      },
      "source": [
        "model_m = SVC(C=4, gamma= 0.01)\n",
        "model_m.fit(Xm_train, ym_train)\n",
        "model_md = SVC(C=3, gamma = 0.01)\n",
        "model_md.fit(Xmd_train, ymd_train)\n",
        "model_ms = SVC(C= 3, gamma = 0.0001)\n",
        "model_ms.fit(Xms_train, yms_train)"
      ],
      "execution_count": null,
      "outputs": []
    },
    {
      "cell_type": "code",
      "metadata": {
        "id": "gBlHSVte9APT"
      },
      "source": [
        "#REALIZAMOS LA PREDICCIÓN DE LAS MUESTRAS DE TESTEO"
      ],
      "execution_count": null,
      "outputs": []
    },
    {
      "cell_type": "code",
      "metadata": {
        "id": "59oEXY85kgN6"
      },
      "source": [
        "model_m_predictions = model_m.predict(Xm_test)\n",
        "model_md_predictions = model_md.predict(Xmd_test)\n",
        "model_ms_predictions = model_ms.predict(Xms_test)"
      ],
      "execution_count": null,
      "outputs": []
    },
    {
      "cell_type": "code",
      "metadata": {
        "id": "iIkU6kwG9LIC"
      },
      "source": [
        "#CONTRUIMOS LA MATRIZ DE CONFUSIÓN PARA LOS 3 MODELOS"
      ],
      "execution_count": null,
      "outputs": []
    },
    {
      "cell_type": "code",
      "metadata": {
        "id": "ydWbOblhk6iH"
      },
      "source": [
        "Conf_m = pd.DataFrame(confusion_matrix(ym_test,model_m_predictions),\n",
        "                       columns= ['1', '2', '3','4','5','6','7','8','9','10','Mundo'], \n",
        "                      index = ['1', '2', '3','4','5','6','7','8','9','10','Mundo'])\n",
        "\n",
        "Conf_md = pd.DataFrame(confusion_matrix(ymd_test,model_md_predictions),\n",
        "                       columns= ['1', '2', '3','4','5','6','7','8','9','10','Mundo'],\n",
        "                       index= ['1', '2', '3','4','5','6','7','8','9','10','Mundo'])\n",
        "Conf_ms = pd.DataFrame(confusion_matrix(yms_test,model_ms_predictions),\n",
        "                       columns= ['1', '2', '3','4','5','6','7','8','9','10','Mundo'],\n",
        "                       index= ['1', '2', '3','4','5','6','7','8','9','10','Mundo'])"
      ],
      "execution_count": null,
      "outputs": []
    },
    {
      "cell_type": "code",
      "metadata": {
        "id": "PpTpZoRF9U2x"
      },
      "source": [
        "#CALCULAMOS EL MAPA DE CALOR DE CADA MATRIZ DE CONFUSIÓN"
      ],
      "execution_count": null,
      "outputs": []
    },
    {
      "cell_type": "code",
      "metadata": {
        "id": "MksTbYQh7SOv"
      },
      "source": [
        "mean = sns.heatmap(Conf_m.drop('Mundo', axis=0),cmap=\"coolwarm\",annot= True,cbar=False)\n",
        "mean.set_ylabel('')\n",
        "mean.set_xlabel('')\n",
        "mean.set_title('Mean Values')"
      ],
      "execution_count": null,
      "outputs": []
    },
    {
      "cell_type": "code",
      "metadata": {
        "id": "GX4gUVBfQRET"
      },
      "source": [
        "mean_der = sns.heatmap(Conf_md.drop('Mundo', axis=0),cmap=\"coolwarm\",annot= True,cbar=False)\n",
        "mean_der.set_ylabel('')\n",
        "mean_der.set_xlabel('')\n",
        "mean_der.set_title('Mean & Delta Values')"
      ],
      "execution_count": null,
      "outputs": []
    },
    {
      "cell_type": "code",
      "metadata": {
        "id": "N7nsWjBrQTI8"
      },
      "source": [
        "mean_var = sns.heatmap(Conf_ms.drop('Mundo', axis=0),cmap=\"coolwarm\",annot= True,cbar=False)\n",
        "mean_var.set_ylabel('')\n",
        "mean_var.set_xlabel('')\n",
        "mean_var.set_title('Mean & Var Values')"
      ],
      "execution_count": null,
      "outputs": []
    },
    {
      "cell_type": "code",
      "metadata": {
        "id": "rVxcgjiz9czH"
      },
      "source": [
        "#OBTENEMOS LA INFORMACIÓN ESTADÍSTICA DE LA PREDICCIÓN DE CADA MODELO"
      ],
      "execution_count": null,
      "outputs": []
    },
    {
      "cell_type": "code",
      "metadata": {
        "id": "RqMFf4Lpk_pf"
      },
      "source": [
        "print(classification_report(ym_test,model_m_predictions))"
      ],
      "execution_count": null,
      "outputs": []
    },
    {
      "cell_type": "code",
      "metadata": {
        "id": "h1P22IQI64eA"
      },
      "source": [
        "print(classification_report(ymd_test,model_md_predictions))"
      ],
      "execution_count": null,
      "outputs": []
    },
    {
      "cell_type": "code",
      "metadata": {
        "id": "zcJeNKp065Lp"
      },
      "source": [
        "print(classification_report(yms_test,model_ms_predictions))"
      ],
      "execution_count": null,
      "outputs": []
    },
    {
      "cell_type": "code",
      "metadata": {
        "id": "tfXhrlYYf1q_"
      },
      "source": [
        "path_m = F\"/content/drive/My Drive/Audios Ahumada/{'model_media.pt'}\" \n",
        "torch.save(model_m, path_m)\n",
        "path_md = F\"/content/drive/My Drive/Audios Ahumada/{'model_med_der.pt'}\" \n",
        "torch.save(model_md, path_md)\n",
        "path_ms = F\"/content/drive/My Drive/Audios Ahumada/{'model_med_var.pt'}\" \n",
        "torch.save(model_ms, path_ms)"
      ],
      "execution_count": null,
      "outputs": []
    }
  ]
}